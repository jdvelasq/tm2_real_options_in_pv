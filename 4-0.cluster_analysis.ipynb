{
 "cells": [
  {
   "cell_type": "code",
   "execution_count": 1,
   "id": "5e169edc-f1cf-4d69-94a2-fc72bdba7ce8",
   "metadata": {},
   "outputs": [
    {
     "name": "stdout",
     "output_type": "stream",
     "text": [
      "Note: to be able to use all crisp methods, you need to install some additional packages:  {'graph_tool', 'infomap', 'bayanpy', 'wurlitzer'}\n",
      "Note: to be able to use all crisp methods, you need to install some additional packages:  {'ASLPAw', 'pyclustering'}\n",
      "Note: to be able to use all crisp methods, you need to install some additional packages:  {'infomap', 'wurlitzer'}\n",
      "--INFO-- The file './reports/co_occurrence/CL_0_relationships_prompt.txt' was created.\n",
      "--INFO-- The file './reports/co_occurrence/CL_1_relationships_prompt.txt' was created.\n",
      "--INFO-- The file './reports/co_occurrence/CL_2_relationships_prompt.txt' was created.\n",
      "--INFO-- The file './reports/co_occurrence/CL_3_relationships_prompt.txt' was created.\n",
      "--INFO-- The file './reports/co_occurrence/CL_4_relationships_prompt.txt' was created.\n"
     ]
    }
   ],
   "source": [
    "from techminer2.science_mapping.co_occurrence import report\n",
    "\n",
    "report(\n",
    "    field='descriptors',\n",
    "    #\n",
    "    # COLUMN PARAMS:\n",
    "    top_n=None,\n",
    "    occ_range=(5, None),\n",
    "    gc_range=(None, None),\n",
    "    custom_items=None,\n",
    "    #\n",
    "    # NETWORK PARAMS:\n",
    "    algorithm_or_dict=\"louvain\",\n",
    "    association_index=\"association\",\n",
    "    #\n",
    "    # DATABASE PARAMS:\n",
    "    root_dir=\"./\",\n",
    "    database=\"main\",\n",
    "    year_filter=(None, None),\n",
    "    cited_by_filter=(None, None),\n",
    ")\n",
    "\n",
    "# !mv reports/co_occurrence/network/ reports/clusters"
   ]
  },
  {
   "cell_type": "markdown",
   "id": "80e0d542-ac58-432c-9428-c5835d310cff",
   "metadata": {},
   "source": [
    "---"
   ]
  },
  {
   "cell_type": "code",
   "execution_count": null,
   "id": "3e45ab67-b991-4a63-89e5-7215e5dbbe8e",
   "metadata": {},
   "outputs": [],
   "source": []
  }
 ],
 "metadata": {
  "kernelspec": {
   "display_name": "Python 3 (ipykernel)",
   "language": "python",
   "name": "python3"
  },
  "language_info": {
   "codemirror_mode": {
    "name": "ipython",
    "version": 3
   },
   "file_extension": ".py",
   "mimetype": "text/x-python",
   "name": "python",
   "nbconvert_exporter": "python",
   "pygments_lexer": "ipython3",
   "version": "3.9.6"
  }
 },
 "nbformat": 4,
 "nbformat_minor": 5
}
