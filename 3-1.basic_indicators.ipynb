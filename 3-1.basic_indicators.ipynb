{
 "cells": [
  {
   "cell_type": "code",
   "execution_count": 1,
   "id": "f6193ab4-0670-40c5-b1a9-d201ef8b1d37",
   "metadata": {},
   "outputs": [
    {
     "name": "stdout",
     "output_type": "stream",
     "text": [
      "Your task is to generate a short summary for a research paper of a table \\\n",
      "with record and field statistics for a dataset of scientific \\\n",
      "publications. The table below, delimited by triple backticks, provides \\\n",
      "data on the main characteristics of the records and fields of the \\\n",
      "bibliographic dataset. Use the the information in the table to draw \\\n",
      "conclusions. Limit your description to one paragraph in at most 100 \\\n",
      "words.\n",
      "\n",
      "Table:\n",
      "```\n",
      "|                                                        | Value     |\n",
      "|:-------------------------------------------------------|:----------|\n",
      "| ('GENERAL', 'Timespan')                                | 2001:2023 |\n",
      "| ('GENERAL', 'Documents')                               | 163       |\n",
      "| ('GENERAL', 'Annual growth rate %')                    | 24.79     |\n",
      "| ('GENERAL', 'Document average age')                    | 6.18      |\n",
      "| ('GENERAL', 'Average citations per document')          | 12.78     |\n",
      "| ('GENERAL', 'Average citations per document per year') | 0.56      |\n",
      "| ('GENERAL', 'Sources')                                 | 100       |\n",
      "| ('GENERAL', 'Average documents per source')            | 1.63      |\n",
      "| ('DOCUMENT TYPES', 'Article')                          | 102       |\n",
      "| ('DOCUMENT TYPES', 'Book chapter')                     | 3         |\n",
      "| ('DOCUMENT TYPES', 'Conference paper')                 | 42        |\n",
      "| ('DOCUMENT TYPES', 'Conference review')                | 6         |\n",
      "| ('DOCUMENT TYPES', 'Erratum')                          | 1         |\n",
      "| ('DOCUMENT TYPES', 'Review')                           | 9         |\n",
      "| ('AUTHORS', 'Authors')                                 | 386       |\n",
      "| ('AUTHORS', 'Authors of single-authored documents')    | 9         |\n",
      "| ('AUTHORS', 'Single-authored documents')               | 9         |\n",
      "| ('AUTHORS', 'Multi-authored documents')                | 146       |\n",
      "| ('AUTHORS', 'Authors per document')                    | 3.08      |\n",
      "| ('AUTHORS', 'Co-authors per document')                 | 3.38      |\n",
      "| ('AUTHORS', 'International co-authorship %')           | 19.35     |\n",
      "| ('AUTHORS', 'Author appearances')                      | 502       |\n",
      "| ('AUTHORS', 'Documents per author')                    | 0.31      |\n",
      "| ('AUTHORS', 'Collaboration index')                     | 1.0       |\n",
      "| ('AUTHORS', 'Organizations')                           | 217       |\n",
      "| ('AUTHORS', 'Organizations (1st author)')              | 108       |\n",
      "| ('AUTHORS', 'Countries')                               | 45        |\n",
      "| ('AUTHORS', 'Countries (1st author)')                  | 33        |\n",
      "| ('KEYWORDS', 'Raw author keywords')                    | 432       |\n",
      "| ('KEYWORDS', 'Cleaned author keywords')                | 357       |\n",
      "| ('KEYWORDS', 'Raw index keywords')                     | 1095      |\n",
      "| ('KEYWORDS', 'Cleaned index keywords')                 | 952       |\n",
      "| ('KEYWORDS', 'Raw keywords')                           | 1318      |\n",
      "| ('KEYWORDS', 'Cleaned keywords')                       | 1069      |\n",
      "| ('NLP PHRASES', 'Raw title NLP phrases')               | 297       |\n",
      "| ('NLP PHRASES', 'Cleaned title NLP phrases')           | 251       |\n",
      "| ('NLP PHRASES', 'Raw abstract NLP phrases')            | 3174      |\n",
      "| ('NLP PHRASES', 'Cleaned abstract NLP phrases')        | 2795      |\n",
      "| ('NLP PHRASES', 'Raw NLP phrases')                     | 3327      |\n",
      "| ('NLP PHRASES', 'Cleaned NLP phrases')                 | 2921      |\n",
      "| ('DESCRIPTORS', 'Raw descriptors')                     | 4318      |\n",
      "| ('DESCRIPTORS', 'Cleaned descriptors')                 | 3609      |\n",
      "```\n",
      "\n"
     ]
    }
   ],
   "source": [
    "from techminer2.metrics import general_metrics\n",
    "\n",
    "info = general_metrics(\n",
    "    #\n",
    "    # DATABASE PARAMS:\n",
    "    root_dir=\"./\",\n",
    "    database=\"main\",\n",
    "    year_filter=(None, None),\n",
    "    cited_by_filter=(None, None),\n",
    ")\n",
    "\n",
    "print(info.prompt_)"
   ]
  },
  {
   "cell_type": "code",
   "execution_count": null,
   "id": "ebf57ca7-0b69-41c8-b1fe-d03b2c9dc425",
   "metadata": {},
   "outputs": [],
   "source": []
  }
 ],
 "metadata": {
  "kernelspec": {
   "display_name": "Python 3 (ipykernel)",
   "language": "python",
   "name": "python3"
  },
  "language_info": {
   "codemirror_mode": {
    "name": "ipython",
    "version": 3
   },
   "file_extension": ".py",
   "mimetype": "text/x-python",
   "name": "python",
   "nbconvert_exporter": "python",
   "pygments_lexer": "ipython3",
   "version": "3.9.6"
  }
 },
 "nbformat": 4,
 "nbformat_minor": 5
}
