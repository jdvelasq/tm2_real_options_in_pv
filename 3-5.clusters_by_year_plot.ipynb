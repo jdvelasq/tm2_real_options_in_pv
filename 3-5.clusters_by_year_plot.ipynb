{
 "cells": [
  {
   "cell_type": "code",
   "execution_count": 1,
   "metadata": {},
   "outputs": [
    {
     "name": "stdout",
     "output_type": "stream",
     "text": [
      "Note: to be able to use all crisp methods, you need to install some additional packages:  {'bayanpy', 'graph_tool', 'infomap', 'wurlitzer'}\n",
      "Note: to be able to use all crisp methods, you need to install some additional packages:  {'ASLPAw', 'pyclustering'}\n",
      "Note: to be able to use all crisp methods, you need to install some additional packages:  {'infomap', 'wurlitzer'}\n",
      "--INFO-- Applying `descriptors.the.txt` thesaurus to author/index keywords and abstract/title words\n",
      "2015  2017  2019  2021  2023  \n",
      "2015 2\n",
      "2017 4\n",
      "2019 5\n",
      "2021 4\n",
      "2023 5\n"
     ]
    }
   ],
   "source": [
    "from techminer2.science_mapping.co_occurrence import communities_summary\n",
    "from techminer2.refine.thesaurus.descriptors import apply_thesaurus\n",
    "\n",
    "\n",
    "def generate_json_data():\n",
    "    data = {}\n",
    "\n",
    "    for year in [2015, 2017, 2019, 2021, 2023]:\n",
    "        print(year, end=\"  \")\n",
    "\n",
    "        if year == 2015:\n",
    "            year_filter = (2014, 2015)\n",
    "        elif year == 2017:\n",
    "            year_filter = (2016, 2017)\n",
    "        elif year == 2019:\n",
    "            year_filter = (2018, 2019)\n",
    "        elif year == 2021:\n",
    "            year_filter = (2020, 2021)\n",
    "        elif year == 2023:\n",
    "            year_filter = (2022, 2023)\n",
    "\n",
    "        m = communities_summary(\n",
    "            #\n",
    "            # PARAMS:\n",
    "            field=\"descriptors\",\n",
    "            #\n",
    "            # SUMMARY PARAMS:\n",
    "            conserve_counters=False,\n",
    "            #\n",
    "            # FILTER PARAMS:\n",
    "            top_n=None,\n",
    "            occ_range=(2, None),\n",
    "            gc_range=(None, None),\n",
    "            custom_items=None,\n",
    "            #\n",
    "            # NETWORK PARAMS:\n",
    "            algorithm_or_dict=\"louvain\",\n",
    "            association_index=\"association\",\n",
    "            #\n",
    "            # DATABASE PARAMS:\n",
    "            root_dir=\"./\",\n",
    "            database=\"main\",\n",
    "            year_filter=year_filter,\n",
    "            cited_by_filter=(None, None),\n",
    "        )\n",
    "\n",
    "        m[\"Terms\"] = m[\"Terms\"].str.split(\"; \")\n",
    "        m[\"Terms\"] = m[\"Terms\"].map(lambda x: [t.strip().replace(\"_\", \" \").title() for t in x[:10]])\n",
    "\n",
    "        data[str(year)] = {}\n",
    "        for cluster in range(m.shape[0]):\n",
    "            data[str(year)][str(cluster)] = m[\"Terms\"][cluster]\n",
    "    \n",
    "    print()\n",
    "    return data\n",
    "\n",
    "\n",
    "#\n",
    "# Generate the data for the clusters per year.\n",
    "apply_thesaurus(root_dir=\"./\")\n",
    "json_data = generate_json_data()\n",
    "\n",
    "for key in json_data.keys():\n",
    "    print(f\"{key} {len(json_data[key])}\")"
   ]
  },
  {
   "cell_type": "code",
   "execution_count": 2,
   "metadata": {},
   "outputs": [
    {
     "data": {
      "application/vnd.plotly.v1+json": {
       "config": {
        "plotlyServerURL": "https://plot.ly"
       },
       "data": [
        {
         "arrangement": "fixed",
         "link": {
          "source": [
           0,
           1,
           1,
           1,
           2,
           2,
           2,
           3,
           3,
           3,
           4,
           5,
           5,
           6,
           6,
           6,
           6,
           7,
           7,
           8,
           9,
           9,
           9,
           10,
           10,
           10,
           11,
           11,
           11,
           12,
           12,
           12,
           12,
           13,
           13,
           13,
           13,
           14
          ],
          "target": [
           3,
           2,
           4,
           3,
           6,
           9,
           10,
           10,
           7,
           8,
           6,
           7,
           10,
           13,
           11,
           14,
           12,
           13,
           12,
           12,
           13,
           12,
           14,
           11,
           13,
           14,
           15,
           18,
           17,
           15,
           19,
           17,
           16,
           17,
           16,
           15,
           19,
           15
          ],
          "value": [
           1,
           2,
           2,
           4,
           5,
           3,
           1,
           3,
           2,
           2,
           3,
           1,
           1,
           1,
           3,
           1,
           1,
           1,
           2,
           1,
           2,
           3,
           1,
           3,
           2,
           1,
           3,
           2,
           2,
           2,
           1,
           2,
           1,
           3,
           3,
           2,
           2,
           1
          ]
         },
         "node": {
          "label": [
           "Economic Viability<br>Investment Costs<br>Energy Productions<br>Future Electricity Price<br>Hybrid Plant<br>Hybrid Power Plants",
           "Investment Decisions<br>Costs<br>Energy Markets<br>Monte Carlo Methods<br>Uncertainty Analysis<br>Optimal Investment Timing",
           "Investment Decisions<br>Costs<br>Electricity Prices<br>Decision Making<br>Electric Power Transmission Networks<br>Energy Policy",
           "Monte Carlo Methods<br>Uncertainty<br>Technology Progress<br>Investment Costs<br>Uncertainty Analysis<br>Carbon",
           "Optimal Investment Timing<br>Defer Option<br>Energy Markets<br>Feed In Tariffs<br>Timing Circuits<br>Stimulate Investment",
           "Subsidy System<br>Carbon Markets<br>Investment Evaluation<br>Cost Benefit Analysis<br>Sensitivity Analysis<br>Public Finance",
           "Investment Decisions<br>Managerial Flexibility<br>Optimal Investment Timing<br>Energy Markets<br>Electric Power Transmission Networks<br>Feed In Tariffs",
           "Uncertainty<br>Wind Energy<br>Cost Benefit Analysis<br>Stochastic Process<br>Cost Uncertainty<br>Capital Investments",
           "Investment Costs<br>Carbon Prices<br>Power Plants<br>Subsidy Policy<br>Coal<br>Coal Fired Power Plants",
           "Economics<br>Present Values<br>Costs<br>Optimal Investments<br>Electricity Generation<br>High Investment Costs",
           "Uncertainty Analysis<br>Energy Policy<br>Sensitivity Analysis<br>Carbon Emissions<br>Economic Analysis<br>Monte Carlo Methods",
           "Energy Markets<br>Uncertainty Analysis<br>Monte Carlo Methods<br>Optimal Investment Timing<br>Sensitivity Analysis<br>Decision Making",
           "Costs<br>Stochastic Process<br>Power Generation<br>Wind Energy<br>Electricity Generation<br>Coal",
           "Investment Decisions<br>Present Values<br>Economics<br>Net Present Value<br>Energy Policy<br>Carbon Emissions",
           "Renewable Sources<br>Electricity Prices<br>Adverse Effects<br>Developing Countries<br>Housing<br>Economic Analysis",
           "Costs<br>Electricity Prices<br>Sensitivity Analysis<br>Uncertainty Analysis<br>Electricity Generation<br>Carbon Emissions",
           "Present Values<br>Managerial Flexibility<br>Cash Flow Analysis<br>Net Present Value<br>Optimization<br>Carbon",
           "Investment Decisions<br>Optimal Investment Timing<br>Decision Making<br>Power Generation<br>Energy Policy<br>Defer Option",
           "Investment Evaluation<br>Energy Storage<br>Compound Real Options<br>Monte Carlo Methods<br>Renewable Energy Technology<br>Energy Security",
           "Uncertainty<br>Project Values<br>Stochastic Process<br>Binomial Decision Tree<br>Risk Assessment<br>Risk Perception"
          ],
          "line": {
           "color": "black",
           "width": 0.3
          },
          "pad": 10,
          "thickness": 10,
          "x": [
           0.025,
           0.025,
           0.2625,
           0.2625,
           0.2625,
           0.2625,
           0.5,
           0.5,
           0.5,
           0.5,
           0.5,
           0.7374999999999999,
           0.7374999999999999,
           0.7374999999999999,
           0.7374999999999999,
           0.975,
           0.975,
           0.975,
           0.975,
           0.975
          ],
          "y": [
           0.2,
           0.6,
           0.15,
           0.46,
           0.68,
           0.85,
           0.14,
           0.38,
           0.5,
           0.7,
           0.93,
           0.12,
           0.4,
           0.73,
           0.97,
           0.165,
           0.39,
           0.6,
           0.8,
           0.95
          ]
         },
         "textfont": {
          "color": "black",
          "size": 9
         },
         "type": "sankey"
        }
       ],
       "layout": {
        "annotations": [
         {
          "align": "center",
          "font": {
           "size": 11
          },
          "showarrow": false,
          "text": "2014-2015",
          "x": 0.02,
          "xref": "paper",
          "y": 1.05,
          "yref": "paper"
         },
         {
          "align": "center",
          "font": {
           "size": 11
          },
          "showarrow": false,
          "text": "2016-2017",
          "x": 0.26,
          "xref": "paper",
          "y": 1.05,
          "yref": "paper"
         },
         {
          "align": "center",
          "font": {
           "size": 11
          },
          "showarrow": false,
          "text": "2018-2019",
          "x": 0.5,
          "xref": "paper",
          "y": 1.05,
          "yref": "paper"
         },
         {
          "align": "center",
          "font": {
           "size": 11
          },
          "showarrow": false,
          "text": "2020-2021",
          "x": 0.74,
          "xref": "paper",
          "y": 1.05,
          "yref": "paper"
         },
         {
          "align": "center",
          "font": {
           "size": 11
          },
          "showarrow": false,
          "text": "2022-2023",
          "x": 0.98,
          "xref": "paper",
          "y": 1.05,
          "yref": "paper"
         }
        ],
        "font": {
         "size": 6
        },
        "height": 800,
        "template": {
         "data": {
          "bar": [
           {
            "error_x": {
             "color": "#2a3f5f"
            },
            "error_y": {
             "color": "#2a3f5f"
            },
            "marker": {
             "line": {
              "color": "#E5ECF6",
              "width": 0.5
             },
             "pattern": {
              "fillmode": "overlay",
              "size": 10,
              "solidity": 0.2
             }
            },
            "type": "bar"
           }
          ],
          "barpolar": [
           {
            "marker": {
             "line": {
              "color": "#E5ECF6",
              "width": 0.5
             },
             "pattern": {
              "fillmode": "overlay",
              "size": 10,
              "solidity": 0.2
             }
            },
            "type": "barpolar"
           }
          ],
          "carpet": [
           {
            "aaxis": {
             "endlinecolor": "#2a3f5f",
             "gridcolor": "white",
             "linecolor": "white",
             "minorgridcolor": "white",
             "startlinecolor": "#2a3f5f"
            },
            "baxis": {
             "endlinecolor": "#2a3f5f",
             "gridcolor": "white",
             "linecolor": "white",
             "minorgridcolor": "white",
             "startlinecolor": "#2a3f5f"
            },
            "type": "carpet"
           }
          ],
          "choropleth": [
           {
            "colorbar": {
             "outlinewidth": 0,
             "ticks": ""
            },
            "type": "choropleth"
           }
          ],
          "contour": [
           {
            "colorbar": {
             "outlinewidth": 0,
             "ticks": ""
            },
            "colorscale": [
             [
              0,
              "#0d0887"
             ],
             [
              0.1111111111111111,
              "#46039f"
             ],
             [
              0.2222222222222222,
              "#7201a8"
             ],
             [
              0.3333333333333333,
              "#9c179e"
             ],
             [
              0.4444444444444444,
              "#bd3786"
             ],
             [
              0.5555555555555556,
              "#d8576b"
             ],
             [
              0.6666666666666666,
              "#ed7953"
             ],
             [
              0.7777777777777778,
              "#fb9f3a"
             ],
             [
              0.8888888888888888,
              "#fdca26"
             ],
             [
              1,
              "#f0f921"
             ]
            ],
            "type": "contour"
           }
          ],
          "contourcarpet": [
           {
            "colorbar": {
             "outlinewidth": 0,
             "ticks": ""
            },
            "type": "contourcarpet"
           }
          ],
          "heatmap": [
           {
            "colorbar": {
             "outlinewidth": 0,
             "ticks": ""
            },
            "colorscale": [
             [
              0,
              "#0d0887"
             ],
             [
              0.1111111111111111,
              "#46039f"
             ],
             [
              0.2222222222222222,
              "#7201a8"
             ],
             [
              0.3333333333333333,
              "#9c179e"
             ],
             [
              0.4444444444444444,
              "#bd3786"
             ],
             [
              0.5555555555555556,
              "#d8576b"
             ],
             [
              0.6666666666666666,
              "#ed7953"
             ],
             [
              0.7777777777777778,
              "#fb9f3a"
             ],
             [
              0.8888888888888888,
              "#fdca26"
             ],
             [
              1,
              "#f0f921"
             ]
            ],
            "type": "heatmap"
           }
          ],
          "heatmapgl": [
           {
            "colorbar": {
             "outlinewidth": 0,
             "ticks": ""
            },
            "colorscale": [
             [
              0,
              "#0d0887"
             ],
             [
              0.1111111111111111,
              "#46039f"
             ],
             [
              0.2222222222222222,
              "#7201a8"
             ],
             [
              0.3333333333333333,
              "#9c179e"
             ],
             [
              0.4444444444444444,
              "#bd3786"
             ],
             [
              0.5555555555555556,
              "#d8576b"
             ],
             [
              0.6666666666666666,
              "#ed7953"
             ],
             [
              0.7777777777777778,
              "#fb9f3a"
             ],
             [
              0.8888888888888888,
              "#fdca26"
             ],
             [
              1,
              "#f0f921"
             ]
            ],
            "type": "heatmapgl"
           }
          ],
          "histogram": [
           {
            "marker": {
             "pattern": {
              "fillmode": "overlay",
              "size": 10,
              "solidity": 0.2
             }
            },
            "type": "histogram"
           }
          ],
          "histogram2d": [
           {
            "colorbar": {
             "outlinewidth": 0,
             "ticks": ""
            },
            "colorscale": [
             [
              0,
              "#0d0887"
             ],
             [
              0.1111111111111111,
              "#46039f"
             ],
             [
              0.2222222222222222,
              "#7201a8"
             ],
             [
              0.3333333333333333,
              "#9c179e"
             ],
             [
              0.4444444444444444,
              "#bd3786"
             ],
             [
              0.5555555555555556,
              "#d8576b"
             ],
             [
              0.6666666666666666,
              "#ed7953"
             ],
             [
              0.7777777777777778,
              "#fb9f3a"
             ],
             [
              0.8888888888888888,
              "#fdca26"
             ],
             [
              1,
              "#f0f921"
             ]
            ],
            "type": "histogram2d"
           }
          ],
          "histogram2dcontour": [
           {
            "colorbar": {
             "outlinewidth": 0,
             "ticks": ""
            },
            "colorscale": [
             [
              0,
              "#0d0887"
             ],
             [
              0.1111111111111111,
              "#46039f"
             ],
             [
              0.2222222222222222,
              "#7201a8"
             ],
             [
              0.3333333333333333,
              "#9c179e"
             ],
             [
              0.4444444444444444,
              "#bd3786"
             ],
             [
              0.5555555555555556,
              "#d8576b"
             ],
             [
              0.6666666666666666,
              "#ed7953"
             ],
             [
              0.7777777777777778,
              "#fb9f3a"
             ],
             [
              0.8888888888888888,
              "#fdca26"
             ],
             [
              1,
              "#f0f921"
             ]
            ],
            "type": "histogram2dcontour"
           }
          ],
          "mesh3d": [
           {
            "colorbar": {
             "outlinewidth": 0,
             "ticks": ""
            },
            "type": "mesh3d"
           }
          ],
          "parcoords": [
           {
            "line": {
             "colorbar": {
              "outlinewidth": 0,
              "ticks": ""
             }
            },
            "type": "parcoords"
           }
          ],
          "pie": [
           {
            "automargin": true,
            "type": "pie"
           }
          ],
          "scatter": [
           {
            "fillpattern": {
             "fillmode": "overlay",
             "size": 10,
             "solidity": 0.2
            },
            "type": "scatter"
           }
          ],
          "scatter3d": [
           {
            "line": {
             "colorbar": {
              "outlinewidth": 0,
              "ticks": ""
             }
            },
            "marker": {
             "colorbar": {
              "outlinewidth": 0,
              "ticks": ""
             }
            },
            "type": "scatter3d"
           }
          ],
          "scattercarpet": [
           {
            "marker": {
             "colorbar": {
              "outlinewidth": 0,
              "ticks": ""
             }
            },
            "type": "scattercarpet"
           }
          ],
          "scattergeo": [
           {
            "marker": {
             "colorbar": {
              "outlinewidth": 0,
              "ticks": ""
             }
            },
            "type": "scattergeo"
           }
          ],
          "scattergl": [
           {
            "marker": {
             "colorbar": {
              "outlinewidth": 0,
              "ticks": ""
             }
            },
            "type": "scattergl"
           }
          ],
          "scattermapbox": [
           {
            "marker": {
             "colorbar": {
              "outlinewidth": 0,
              "ticks": ""
             }
            },
            "type": "scattermapbox"
           }
          ],
          "scatterpolar": [
           {
            "marker": {
             "colorbar": {
              "outlinewidth": 0,
              "ticks": ""
             }
            },
            "type": "scatterpolar"
           }
          ],
          "scatterpolargl": [
           {
            "marker": {
             "colorbar": {
              "outlinewidth": 0,
              "ticks": ""
             }
            },
            "type": "scatterpolargl"
           }
          ],
          "scatterternary": [
           {
            "marker": {
             "colorbar": {
              "outlinewidth": 0,
              "ticks": ""
             }
            },
            "type": "scatterternary"
           }
          ],
          "surface": [
           {
            "colorbar": {
             "outlinewidth": 0,
             "ticks": ""
            },
            "colorscale": [
             [
              0,
              "#0d0887"
             ],
             [
              0.1111111111111111,
              "#46039f"
             ],
             [
              0.2222222222222222,
              "#7201a8"
             ],
             [
              0.3333333333333333,
              "#9c179e"
             ],
             [
              0.4444444444444444,
              "#bd3786"
             ],
             [
              0.5555555555555556,
              "#d8576b"
             ],
             [
              0.6666666666666666,
              "#ed7953"
             ],
             [
              0.7777777777777778,
              "#fb9f3a"
             ],
             [
              0.8888888888888888,
              "#fdca26"
             ],
             [
              1,
              "#f0f921"
             ]
            ],
            "type": "surface"
           }
          ],
          "table": [
           {
            "cells": {
             "fill": {
              "color": "#EBF0F8"
             },
             "line": {
              "color": "white"
             }
            },
            "header": {
             "fill": {
              "color": "#C8D4E3"
             },
             "line": {
              "color": "white"
             }
            },
            "type": "table"
           }
          ]
         },
         "layout": {
          "annotationdefaults": {
           "arrowcolor": "#2a3f5f",
           "arrowhead": 0,
           "arrowwidth": 1
          },
          "autotypenumbers": "strict",
          "coloraxis": {
           "colorbar": {
            "outlinewidth": 0,
            "ticks": ""
           }
          },
          "colorscale": {
           "diverging": [
            [
             0,
             "#8e0152"
            ],
            [
             0.1,
             "#c51b7d"
            ],
            [
             0.2,
             "#de77ae"
            ],
            [
             0.3,
             "#f1b6da"
            ],
            [
             0.4,
             "#fde0ef"
            ],
            [
             0.5,
             "#f7f7f7"
            ],
            [
             0.6,
             "#e6f5d0"
            ],
            [
             0.7,
             "#b8e186"
            ],
            [
             0.8,
             "#7fbc41"
            ],
            [
             0.9,
             "#4d9221"
            ],
            [
             1,
             "#276419"
            ]
           ],
           "sequential": [
            [
             0,
             "#0d0887"
            ],
            [
             0.1111111111111111,
             "#46039f"
            ],
            [
             0.2222222222222222,
             "#7201a8"
            ],
            [
             0.3333333333333333,
             "#9c179e"
            ],
            [
             0.4444444444444444,
             "#bd3786"
            ],
            [
             0.5555555555555556,
             "#d8576b"
            ],
            [
             0.6666666666666666,
             "#ed7953"
            ],
            [
             0.7777777777777778,
             "#fb9f3a"
            ],
            [
             0.8888888888888888,
             "#fdca26"
            ],
            [
             1,
             "#f0f921"
            ]
           ],
           "sequentialminus": [
            [
             0,
             "#0d0887"
            ],
            [
             0.1111111111111111,
             "#46039f"
            ],
            [
             0.2222222222222222,
             "#7201a8"
            ],
            [
             0.3333333333333333,
             "#9c179e"
            ],
            [
             0.4444444444444444,
             "#bd3786"
            ],
            [
             0.5555555555555556,
             "#d8576b"
            ],
            [
             0.6666666666666666,
             "#ed7953"
            ],
            [
             0.7777777777777778,
             "#fb9f3a"
            ],
            [
             0.8888888888888888,
             "#fdca26"
            ],
            [
             1,
             "#f0f921"
            ]
           ]
          },
          "colorway": [
           "#636efa",
           "#EF553B",
           "#00cc96",
           "#ab63fa",
           "#FFA15A",
           "#19d3f3",
           "#FF6692",
           "#B6E880",
           "#FF97FF",
           "#FECB52"
          ],
          "font": {
           "color": "#2a3f5f"
          },
          "geo": {
           "bgcolor": "white",
           "lakecolor": "white",
           "landcolor": "#E5ECF6",
           "showlakes": true,
           "showland": true,
           "subunitcolor": "white"
          },
          "hoverlabel": {
           "align": "left"
          },
          "hovermode": "closest",
          "mapbox": {
           "style": "light"
          },
          "paper_bgcolor": "white",
          "plot_bgcolor": "#E5ECF6",
          "polar": {
           "angularaxis": {
            "gridcolor": "white",
            "linecolor": "white",
            "ticks": ""
           },
           "bgcolor": "#E5ECF6",
           "radialaxis": {
            "gridcolor": "white",
            "linecolor": "white",
            "ticks": ""
           }
          },
          "scene": {
           "xaxis": {
            "backgroundcolor": "#E5ECF6",
            "gridcolor": "white",
            "gridwidth": 2,
            "linecolor": "white",
            "showbackground": true,
            "ticks": "",
            "zerolinecolor": "white"
           },
           "yaxis": {
            "backgroundcolor": "#E5ECF6",
            "gridcolor": "white",
            "gridwidth": 2,
            "linecolor": "white",
            "showbackground": true,
            "ticks": "",
            "zerolinecolor": "white"
           },
           "zaxis": {
            "backgroundcolor": "#E5ECF6",
            "gridcolor": "white",
            "gridwidth": 2,
            "linecolor": "white",
            "showbackground": true,
            "ticks": "",
            "zerolinecolor": "white"
           }
          },
          "shapedefaults": {
           "line": {
            "color": "#2a3f5f"
           }
          },
          "ternary": {
           "aaxis": {
            "gridcolor": "white",
            "linecolor": "white",
            "ticks": ""
           },
           "baxis": {
            "gridcolor": "white",
            "linecolor": "white",
            "ticks": ""
           },
           "bgcolor": "#E5ECF6",
           "caxis": {
            "gridcolor": "white",
            "linecolor": "white",
            "ticks": ""
           }
          },
          "title": {
           "x": 0.05
          },
          "xaxis": {
           "automargin": true,
           "gridcolor": "white",
           "linecolor": "white",
           "ticks": "",
           "title": {
            "standoff": 15
           },
           "zerolinecolor": "white",
           "zerolinewidth": 2
          },
          "yaxis": {
           "automargin": true,
           "gridcolor": "white",
           "linecolor": "white",
           "ticks": "",
           "title": {
            "standoff": 15
           },
           "zerolinecolor": "white",
           "zerolinewidth": 2
          }
         }
        },
        "width": 1100
       }
      }
     },
     "metadata": {},
     "output_type": "display_data"
    }
   ],
   "source": [
    "import sankey\n",
    "\n",
    "\n",
    "# 2015 2\n",
    "# 2017 4\n",
    "# 2019 5\n",
    "# 2021 4\n",
    "# 2023 5\n",
    "\n",
    "\n",
    "\n",
    "def flip_cluster(json_data, year, c1, c2):\n",
    "    aux = json_data[year][c1]\n",
    "    json_data[year][c1] = json_data[year][c2]\n",
    "    json_data[year][c2] = aux\n",
    "    return json_data\n",
    "\n",
    "\n",
    "# json_data = flip_cluster(json_data, '2017', '0', '1')\n",
    "\n",
    "\n",
    "AI_DRIVEN_HRM_GREEN = 'RGB(44,160,44)'\n",
    "BIG_DATA_ANALYTICS_BLUE = 'RGB(31,119,180)'\n",
    "ADOPTION_AND_DECISON_MAKING_RED = 'RGB(214,39,40)'\n",
    "TECHONOLOGY_ETHICS_ORANGE = 'RGB(255,102,0)'\n",
    "\n",
    "sankey.make_sankey_plot(\n",
    "    json_data,\n",
    "    y=[\n",
    "        #\n",
    "        # 2015: 2\n",
    "        0.20,\n",
    "        0.60,\n",
    "        #\n",
    "        # 2017: 4\n",
    "        0.15,\n",
    "        0.46,\n",
    "        0.68,\n",
    "        0.85,\n",
    "        #\n",
    "        # 2019: 5\n",
    "        0.14,\n",
    "        0.38,\n",
    "        0.50,\n",
    "        0.70,\n",
    "        0.93,\n",
    "        #\n",
    "        # 2021: 5\n",
    "        0.12,\n",
    "        0.40,\n",
    "        0.73,\n",
    "        0.97,\n",
    "        #\n",
    "        # 2023: 5\n",
    "        0.165,\n",
    "        0.39,\n",
    "        0.60,\n",
    "        0.80,\n",
    "        0.95,\n",
    "\n",
    "    ],\n",
    "    color=None,\n",
    "    # color=[\n",
    "    #     BIG_DATA_ANALYTICS_BLUE, AI_DRIVEN_HRM_GREEN,\n",
    "    #     ADOPTION_AND_DECISON_MAKING_RED, TECHONOLOGY_ETHICS_ORANGE,\n",
    "    #     BIG_DATA_ANALYTICS_BLUE, AI_DRIVEN_HRM_GREEN,\n",
    "    #     AI_DRIVEN_HRM_GREEN, BIG_DATA_ANALYTICS_BLUE, AI_DRIVEN_HRM_GREEN,\n",
    "    #     ADOPTION_AND_DECISON_MAKING_RED, BIG_DATA_ANALYTICS_BLUE, AI_DRIVEN_HRM_GREEN, AI_DRIVEN_HRM_GREEN,\n",
    "    #     AI_DRIVEN_HRM_GREEN, TECHONOLOGY_ETHICS_ORANGE, ADOPTION_AND_DECISON_MAKING_RED, BIG_DATA_ANALYTICS_BLUE,\n",
    "    #     AI_DRIVEN_HRM_GREEN, ADOPTION_AND_DECISON_MAKING_RED, ADOPTION_AND_DECISON_MAKING_RED, AI_DRIVEN_HRM_GREEN,\n",
    "    #     BIG_DATA_ANALYTICS_BLUE, ADOPTION_AND_DECISON_MAKING_RED, AI_DRIVEN_HRM_GREEN, ADOPTION_AND_DECISON_MAKING_RED,\n",
    "    # ],\n",
    ").update_layout(width=1100, height=800, font={'size': 6}).show()"
   ]
  },
  {
   "cell_type": "code",
   "execution_count": null,
   "metadata": {},
   "outputs": [],
   "source": []
  }
 ],
 "metadata": {
  "kernelspec": {
   "display_name": ".venv",
   "language": "python",
   "name": "python3"
  },
  "language_info": {
   "codemirror_mode": {
    "name": "ipython",
    "version": 3
   },
   "file_extension": ".py",
   "mimetype": "text/x-python",
   "name": "python",
   "nbconvert_exporter": "python",
   "pygments_lexer": "ipython3",
   "version": "3.9.6"
  }
 },
 "nbformat": 4,
 "nbformat_minor": 2
}
