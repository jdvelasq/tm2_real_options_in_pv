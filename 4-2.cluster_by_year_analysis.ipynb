{
 "cells": [
  {
   "cell_type": "code",
   "execution_count": 2,
   "metadata": {},
   "outputs": [
    {
     "name": "stdout",
     "output_type": "stream",
     "text": [
      "2015\n",
      "--INFO-- The file './reports/co_occurrence/CL_0_relationships_prompt.txt' was created.\n",
      "--INFO-- The file './reports/co_occurrence/CL_1_relationships_prompt.txt' was created.\n",
      "2017\n",
      "--INFO-- The file './reports/co_occurrence/CL_0_relationships_prompt.txt' was created.\n",
      "--INFO-- The file './reports/co_occurrence/CL_1_relationships_prompt.txt' was created.\n",
      "--INFO-- The file './reports/co_occurrence/CL_2_relationships_prompt.txt' was created.\n",
      "--INFO-- The file './reports/co_occurrence/CL_3_relationships_prompt.txt' was created.\n",
      "2019\n",
      "--INFO-- The file './reports/co_occurrence/CL_0_relationships_prompt.txt' was created.\n",
      "--INFO-- The file './reports/co_occurrence/CL_1_relationships_prompt.txt' was created.\n",
      "--INFO-- The file './reports/co_occurrence/CL_2_relationships_prompt.txt' was created.\n",
      "--INFO-- The file './reports/co_occurrence/CL_3_relationships_prompt.txt' was created.\n",
      "--INFO-- The file './reports/co_occurrence/CL_4_relationships_prompt.txt' was created.\n",
      "2021\n",
      "--INFO-- The file './reports/co_occurrence/CL_0_relationships_prompt.txt' was created.\n",
      "--INFO-- The file './reports/co_occurrence/CL_1_relationships_prompt.txt' was created.\n",
      "--INFO-- The file './reports/co_occurrence/CL_2_relationships_prompt.txt' was created.\n",
      "--INFO-- The file './reports/co_occurrence/CL_3_relationships_prompt.txt' was created.\n",
      "2023\n",
      "--INFO-- The file './reports/co_occurrence/CL_0_relationships_prompt.txt' was created.\n",
      "--INFO-- The file './reports/co_occurrence/CL_1_relationships_prompt.txt' was created.\n",
      "--INFO-- The file './reports/co_occurrence/CL_2_relationships_prompt.txt' was created.\n",
      "--INFO-- The file './reports/co_occurrence/CL_3_relationships_prompt.txt' was created.\n",
      "--INFO-- The file './reports/co_occurrence/CL_4_relationships_prompt.txt' was created.\n"
     ]
    }
   ],
   "source": [
    "from techminer2.science_mapping.co_occurrence import report\n",
    "\n",
    "def generate_report():\n",
    "\n",
    "    for year in [2015, 2017, 2019, 2021, 2023]:\n",
    "        print(year)\n",
    "\n",
    "        if year == 2015:\n",
    "            year_filter = (2014, 2015)\n",
    "        elif year == 2017:\n",
    "            year_filter = (2016, 2017)\n",
    "        elif year == 2019:\n",
    "            year_filter = (2018, 2019)\n",
    "        elif year == 2021:\n",
    "            year_filter = (2020, 2021)\n",
    "        elif year == 2023:\n",
    "            year_filter = (2022, 2023)\n",
    "\n",
    "        report(\n",
    "            field='descriptors',\n",
    "            #\n",
    "            # COLUMN PARAMS:\n",
    "            top_n=None,\n",
    "            occ_range=(2, None),\n",
    "            gc_range=(None, None),\n",
    "            custom_items=None,\n",
    "            #\n",
    "            # NETWORK PARAMS:\n",
    "            algorithm_or_dict=\"louvain\",\n",
    "            association_index=\"association\",\n",
    "            #\n",
    "            # DATABASE PARAMS:\n",
    "            root_dir=\"./\",\n",
    "            database=\"main\",\n",
    "            year_filter=year_filter,\n",
    "            cited_by_filter=(None, None),\n",
    "        )\n",
    "\n",
    "        !mv reports/co_occurrence/* reports/clusters_by_year/{year}/\n",
    "\n",
    "generate_report()"
   ]
  }
 ],
 "metadata": {
  "kernelspec": {
   "display_name": ".venv",
   "language": "python",
   "name": "python3"
  },
  "language_info": {
   "codemirror_mode": {
    "name": "ipython",
    "version": 3
   },
   "file_extension": ".py",
   "mimetype": "text/x-python",
   "name": "python",
   "nbconvert_exporter": "python",
   "pygments_lexer": "ipython3",
   "version": "3.9.6"
  }
 },
 "nbformat": 4,
 "nbformat_minor": 2
}
