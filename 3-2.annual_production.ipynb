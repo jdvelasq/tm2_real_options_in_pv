{
 "cells": [
  {
   "cell_type": "code",
   "execution_count": 3,
   "id": "db8b6ed1-4adb-4955-93e1-40ef14881b7e",
   "metadata": {},
   "outputs": [
    {
     "data": {
      "application/vnd.plotly.v1+json": {
       "config": {
        "plotlyServerURL": "https://plot.ly"
       },
       "data": [
        {
         "customdata": [
          [
           0,
           0,
           0
          ],
          [
           7,
           7,
           0.33
          ],
          [
           19,
           3.1666666666666665,
           0.17
          ],
          [
           9,
           9,
           0.5
          ],
          [
           9,
           4.5,
           0.26
          ],
          [
           27,
           9,
           0.56
          ],
          [
           1,
           0.25,
           0.02
          ],
          [
           15,
           5,
           0.36
          ],
          [
           37,
           7.4,
           0.57
          ],
          [
           119,
           14.875,
           1.24
          ],
          [
           146,
           20.857142857142858,
           1.9
          ],
          [
           90,
           18,
           1.8
          ],
          [
           212,
           30.285714285714285,
           3.37
          ],
          [
           368,
           28.307692307692307,
           3.54
          ],
          [
           201,
           16.75,
           2.39
          ],
          [
           193,
           17.545454545454547,
           2.92
          ],
          [
           186,
           18.6,
           3.72
          ],
          [
           113,
           9.416666666666666,
           2.35
          ],
          [
           202,
           11.222222222222221,
           3.74
          ],
          [
           111,
           5.55,
           2.78
          ],
          [
           18,
           1.2857142857142858,
           1.29
          ]
         ],
         "hovertemplate": "year=%{x}<br>OCC=%{y}<br>Global Citations=%{customdata[0]}<br>Mean Global Citations=%{customdata[1]}<br>Mean Global Citations Per Year=%{customdata[2]}<extra></extra>",
         "legendgroup": "",
         "line": {
          "color": "#465c6b",
          "dash": "solid",
          "width": 1.5
         },
         "marker": {
          "color": "#7793a5",
          "line": {
           "color": "#465c6b",
           "width": 2
          },
          "size": 7,
          "symbol": "circle"
         },
         "mode": "lines+markers",
         "name": "",
         "orientation": "v",
         "showlegend": false,
         "type": "scatter",
         "x": [
          2001,
          2003,
          2005,
          2006,
          2007,
          2008,
          2009,
          2010,
          2011,
          2012,
          2013,
          2014,
          2015,
          2016,
          2017,
          2018,
          2019,
          2020,
          2021,
          2022,
          2023
         ],
         "xaxis": "x",
         "y": [
          1,
          1,
          6,
          1,
          2,
          3,
          4,
          3,
          5,
          8,
          7,
          5,
          7,
          13,
          12,
          11,
          10,
          12,
          18,
          20,
          14
         ],
         "yaxis": "y"
        }
       ],
       "layout": {
        "annotations": [
         {
          "font": {
           "size": 10
          },
          "showarrow": false,
          "text": "0",
          "textangle": -90,
          "x": 2001,
          "y": 1,
          "yanchor": "bottom",
          "yshift": 6
         },
         {
          "font": {
           "size": 10
          },
          "showarrow": false,
          "text": "7",
          "textangle": -90,
          "x": 2003,
          "y": 1,
          "yanchor": "bottom",
          "yshift": 6
         },
         {
          "font": {
           "size": 10
          },
          "showarrow": false,
          "text": "19",
          "textangle": -90,
          "x": 2005,
          "y": 6,
          "yanchor": "bottom",
          "yshift": 6
         },
         {
          "font": {
           "size": 10
          },
          "showarrow": false,
          "text": "9",
          "textangle": -90,
          "x": 2006,
          "y": 1,
          "yanchor": "bottom",
          "yshift": 6
         },
         {
          "font": {
           "size": 10
          },
          "showarrow": false,
          "text": "9",
          "textangle": -90,
          "x": 2007,
          "y": 2,
          "yanchor": "bottom",
          "yshift": 6
         },
         {
          "font": {
           "size": 10
          },
          "showarrow": false,
          "text": "27",
          "textangle": -90,
          "x": 2008,
          "y": 3,
          "yanchor": "bottom",
          "yshift": 6
         },
         {
          "font": {
           "size": 10
          },
          "showarrow": false,
          "text": "1",
          "textangle": -90,
          "x": 2009,
          "y": 4,
          "yanchor": "bottom",
          "yshift": 6
         },
         {
          "font": {
           "size": 10
          },
          "showarrow": false,
          "text": "15",
          "textangle": -90,
          "x": 2010,
          "y": 3,
          "yanchor": "bottom",
          "yshift": 6
         },
         {
          "font": {
           "size": 10
          },
          "showarrow": false,
          "text": "37",
          "textangle": -90,
          "x": 2011,
          "y": 5,
          "yanchor": "bottom",
          "yshift": 6
         },
         {
          "font": {
           "size": 10
          },
          "showarrow": false,
          "text": "119",
          "textangle": -90,
          "x": 2012,
          "y": 8,
          "yanchor": "bottom",
          "yshift": 6
         },
         {
          "font": {
           "size": 10
          },
          "showarrow": false,
          "text": "146",
          "textangle": -90,
          "x": 2013,
          "y": 7,
          "yanchor": "bottom",
          "yshift": 6
         },
         {
          "font": {
           "size": 10
          },
          "showarrow": false,
          "text": "90",
          "textangle": -90,
          "x": 2014,
          "y": 5,
          "yanchor": "bottom",
          "yshift": 6
         },
         {
          "font": {
           "size": 10
          },
          "showarrow": false,
          "text": "212",
          "textangle": -90,
          "x": 2015,
          "y": 7,
          "yanchor": "bottom",
          "yshift": 6
         },
         {
          "font": {
           "size": 10
          },
          "showarrow": false,
          "text": "368",
          "textangle": -90,
          "x": 2016,
          "y": 13,
          "yanchor": "bottom",
          "yshift": 6
         },
         {
          "font": {
           "size": 10
          },
          "showarrow": false,
          "text": "201",
          "textangle": -90,
          "x": 2017,
          "y": 12,
          "yanchor": "bottom",
          "yshift": 6
         },
         {
          "font": {
           "size": 10
          },
          "showarrow": false,
          "text": "193",
          "textangle": -90,
          "x": 2018,
          "y": 11,
          "yanchor": "bottom",
          "yshift": 6
         },
         {
          "font": {
           "size": 10
          },
          "showarrow": false,
          "text": "186",
          "textangle": -90,
          "x": 2019,
          "y": 10,
          "yanchor": "bottom",
          "yshift": 6
         },
         {
          "font": {
           "size": 10
          },
          "showarrow": false,
          "text": "113",
          "textangle": -90,
          "x": 2020,
          "y": 12,
          "yanchor": "bottom",
          "yshift": 6
         },
         {
          "font": {
           "size": 10
          },
          "showarrow": false,
          "text": "202",
          "textangle": -90,
          "x": 2021,
          "y": 18,
          "yanchor": "bottom",
          "yshift": 6
         },
         {
          "font": {
           "size": 10
          },
          "showarrow": false,
          "text": "111",
          "textangle": -90,
          "x": 2022,
          "y": 20,
          "yanchor": "bottom",
          "yshift": 6
         },
         {
          "font": {
           "size": 10
          },
          "showarrow": false,
          "text": "18",
          "textangle": -90,
          "x": 2023,
          "y": 14,
          "yanchor": "bottom",
          "yshift": 6
         }
        ],
        "height": 400,
        "legend": {
         "tracegroupgap": 0
        },
        "margin": {
         "t": 60
        },
        "paper_bgcolor": "white",
        "plot_bgcolor": "white",
        "template": {
         "data": {
          "bar": [
           {
            "error_x": {
             "color": "#2a3f5f"
            },
            "error_y": {
             "color": "#2a3f5f"
            },
            "marker": {
             "line": {
              "color": "#E5ECF6",
              "width": 0.5
             },
             "pattern": {
              "fillmode": "overlay",
              "size": 10,
              "solidity": 0.2
             }
            },
            "type": "bar"
           }
          ],
          "barpolar": [
           {
            "marker": {
             "line": {
              "color": "#E5ECF6",
              "width": 0.5
             },
             "pattern": {
              "fillmode": "overlay",
              "size": 10,
              "solidity": 0.2
             }
            },
            "type": "barpolar"
           }
          ],
          "carpet": [
           {
            "aaxis": {
             "endlinecolor": "#2a3f5f",
             "gridcolor": "white",
             "linecolor": "white",
             "minorgridcolor": "white",
             "startlinecolor": "#2a3f5f"
            },
            "baxis": {
             "endlinecolor": "#2a3f5f",
             "gridcolor": "white",
             "linecolor": "white",
             "minorgridcolor": "white",
             "startlinecolor": "#2a3f5f"
            },
            "type": "carpet"
           }
          ],
          "choropleth": [
           {
            "colorbar": {
             "outlinewidth": 0,
             "ticks": ""
            },
            "type": "choropleth"
           }
          ],
          "contour": [
           {
            "colorbar": {
             "outlinewidth": 0,
             "ticks": ""
            },
            "colorscale": [
             [
              0,
              "#0d0887"
             ],
             [
              0.1111111111111111,
              "#46039f"
             ],
             [
              0.2222222222222222,
              "#7201a8"
             ],
             [
              0.3333333333333333,
              "#9c179e"
             ],
             [
              0.4444444444444444,
              "#bd3786"
             ],
             [
              0.5555555555555556,
              "#d8576b"
             ],
             [
              0.6666666666666666,
              "#ed7953"
             ],
             [
              0.7777777777777778,
              "#fb9f3a"
             ],
             [
              0.8888888888888888,
              "#fdca26"
             ],
             [
              1,
              "#f0f921"
             ]
            ],
            "type": "contour"
           }
          ],
          "contourcarpet": [
           {
            "colorbar": {
             "outlinewidth": 0,
             "ticks": ""
            },
            "type": "contourcarpet"
           }
          ],
          "heatmap": [
           {
            "colorbar": {
             "outlinewidth": 0,
             "ticks": ""
            },
            "colorscale": [
             [
              0,
              "#0d0887"
             ],
             [
              0.1111111111111111,
              "#46039f"
             ],
             [
              0.2222222222222222,
              "#7201a8"
             ],
             [
              0.3333333333333333,
              "#9c179e"
             ],
             [
              0.4444444444444444,
              "#bd3786"
             ],
             [
              0.5555555555555556,
              "#d8576b"
             ],
             [
              0.6666666666666666,
              "#ed7953"
             ],
             [
              0.7777777777777778,
              "#fb9f3a"
             ],
             [
              0.8888888888888888,
              "#fdca26"
             ],
             [
              1,
              "#f0f921"
             ]
            ],
            "type": "heatmap"
           }
          ],
          "heatmapgl": [
           {
            "colorbar": {
             "outlinewidth": 0,
             "ticks": ""
            },
            "colorscale": [
             [
              0,
              "#0d0887"
             ],
             [
              0.1111111111111111,
              "#46039f"
             ],
             [
              0.2222222222222222,
              "#7201a8"
             ],
             [
              0.3333333333333333,
              "#9c179e"
             ],
             [
              0.4444444444444444,
              "#bd3786"
             ],
             [
              0.5555555555555556,
              "#d8576b"
             ],
             [
              0.6666666666666666,
              "#ed7953"
             ],
             [
              0.7777777777777778,
              "#fb9f3a"
             ],
             [
              0.8888888888888888,
              "#fdca26"
             ],
             [
              1,
              "#f0f921"
             ]
            ],
            "type": "heatmapgl"
           }
          ],
          "histogram": [
           {
            "marker": {
             "pattern": {
              "fillmode": "overlay",
              "size": 10,
              "solidity": 0.2
             }
            },
            "type": "histogram"
           }
          ],
          "histogram2d": [
           {
            "colorbar": {
             "outlinewidth": 0,
             "ticks": ""
            },
            "colorscale": [
             [
              0,
              "#0d0887"
             ],
             [
              0.1111111111111111,
              "#46039f"
             ],
             [
              0.2222222222222222,
              "#7201a8"
             ],
             [
              0.3333333333333333,
              "#9c179e"
             ],
             [
              0.4444444444444444,
              "#bd3786"
             ],
             [
              0.5555555555555556,
              "#d8576b"
             ],
             [
              0.6666666666666666,
              "#ed7953"
             ],
             [
              0.7777777777777778,
              "#fb9f3a"
             ],
             [
              0.8888888888888888,
              "#fdca26"
             ],
             [
              1,
              "#f0f921"
             ]
            ],
            "type": "histogram2d"
           }
          ],
          "histogram2dcontour": [
           {
            "colorbar": {
             "outlinewidth": 0,
             "ticks": ""
            },
            "colorscale": [
             [
              0,
              "#0d0887"
             ],
             [
              0.1111111111111111,
              "#46039f"
             ],
             [
              0.2222222222222222,
              "#7201a8"
             ],
             [
              0.3333333333333333,
              "#9c179e"
             ],
             [
              0.4444444444444444,
              "#bd3786"
             ],
             [
              0.5555555555555556,
              "#d8576b"
             ],
             [
              0.6666666666666666,
              "#ed7953"
             ],
             [
              0.7777777777777778,
              "#fb9f3a"
             ],
             [
              0.8888888888888888,
              "#fdca26"
             ],
             [
              1,
              "#f0f921"
             ]
            ],
            "type": "histogram2dcontour"
           }
          ],
          "mesh3d": [
           {
            "colorbar": {
             "outlinewidth": 0,
             "ticks": ""
            },
            "type": "mesh3d"
           }
          ],
          "parcoords": [
           {
            "line": {
             "colorbar": {
              "outlinewidth": 0,
              "ticks": ""
             }
            },
            "type": "parcoords"
           }
          ],
          "pie": [
           {
            "automargin": true,
            "type": "pie"
           }
          ],
          "scatter": [
           {
            "fillpattern": {
             "fillmode": "overlay",
             "size": 10,
             "solidity": 0.2
            },
            "type": "scatter"
           }
          ],
          "scatter3d": [
           {
            "line": {
             "colorbar": {
              "outlinewidth": 0,
              "ticks": ""
             }
            },
            "marker": {
             "colorbar": {
              "outlinewidth": 0,
              "ticks": ""
             }
            },
            "type": "scatter3d"
           }
          ],
          "scattercarpet": [
           {
            "marker": {
             "colorbar": {
              "outlinewidth": 0,
              "ticks": ""
             }
            },
            "type": "scattercarpet"
           }
          ],
          "scattergeo": [
           {
            "marker": {
             "colorbar": {
              "outlinewidth": 0,
              "ticks": ""
             }
            },
            "type": "scattergeo"
           }
          ],
          "scattergl": [
           {
            "marker": {
             "colorbar": {
              "outlinewidth": 0,
              "ticks": ""
             }
            },
            "type": "scattergl"
           }
          ],
          "scattermapbox": [
           {
            "marker": {
             "colorbar": {
              "outlinewidth": 0,
              "ticks": ""
             }
            },
            "type": "scattermapbox"
           }
          ],
          "scatterpolar": [
           {
            "marker": {
             "colorbar": {
              "outlinewidth": 0,
              "ticks": ""
             }
            },
            "type": "scatterpolar"
           }
          ],
          "scatterpolargl": [
           {
            "marker": {
             "colorbar": {
              "outlinewidth": 0,
              "ticks": ""
             }
            },
            "type": "scatterpolargl"
           }
          ],
          "scatterternary": [
           {
            "marker": {
             "colorbar": {
              "outlinewidth": 0,
              "ticks": ""
             }
            },
            "type": "scatterternary"
           }
          ],
          "surface": [
           {
            "colorbar": {
             "outlinewidth": 0,
             "ticks": ""
            },
            "colorscale": [
             [
              0,
              "#0d0887"
             ],
             [
              0.1111111111111111,
              "#46039f"
             ],
             [
              0.2222222222222222,
              "#7201a8"
             ],
             [
              0.3333333333333333,
              "#9c179e"
             ],
             [
              0.4444444444444444,
              "#bd3786"
             ],
             [
              0.5555555555555556,
              "#d8576b"
             ],
             [
              0.6666666666666666,
              "#ed7953"
             ],
             [
              0.7777777777777778,
              "#fb9f3a"
             ],
             [
              0.8888888888888888,
              "#fdca26"
             ],
             [
              1,
              "#f0f921"
             ]
            ],
            "type": "surface"
           }
          ],
          "table": [
           {
            "cells": {
             "fill": {
              "color": "#EBF0F8"
             },
             "line": {
              "color": "white"
             }
            },
            "header": {
             "fill": {
              "color": "#C8D4E3"
             },
             "line": {
              "color": "white"
             }
            },
            "type": "table"
           }
          ]
         },
         "layout": {
          "annotationdefaults": {
           "arrowcolor": "#2a3f5f",
           "arrowhead": 0,
           "arrowwidth": 1
          },
          "autotypenumbers": "strict",
          "coloraxis": {
           "colorbar": {
            "outlinewidth": 0,
            "ticks": ""
           }
          },
          "colorscale": {
           "diverging": [
            [
             0,
             "#8e0152"
            ],
            [
             0.1,
             "#c51b7d"
            ],
            [
             0.2,
             "#de77ae"
            ],
            [
             0.3,
             "#f1b6da"
            ],
            [
             0.4,
             "#fde0ef"
            ],
            [
             0.5,
             "#f7f7f7"
            ],
            [
             0.6,
             "#e6f5d0"
            ],
            [
             0.7,
             "#b8e186"
            ],
            [
             0.8,
             "#7fbc41"
            ],
            [
             0.9,
             "#4d9221"
            ],
            [
             1,
             "#276419"
            ]
           ],
           "sequential": [
            [
             0,
             "#0d0887"
            ],
            [
             0.1111111111111111,
             "#46039f"
            ],
            [
             0.2222222222222222,
             "#7201a8"
            ],
            [
             0.3333333333333333,
             "#9c179e"
            ],
            [
             0.4444444444444444,
             "#bd3786"
            ],
            [
             0.5555555555555556,
             "#d8576b"
            ],
            [
             0.6666666666666666,
             "#ed7953"
            ],
            [
             0.7777777777777778,
             "#fb9f3a"
            ],
            [
             0.8888888888888888,
             "#fdca26"
            ],
            [
             1,
             "#f0f921"
            ]
           ],
           "sequentialminus": [
            [
             0,
             "#0d0887"
            ],
            [
             0.1111111111111111,
             "#46039f"
            ],
            [
             0.2222222222222222,
             "#7201a8"
            ],
            [
             0.3333333333333333,
             "#9c179e"
            ],
            [
             0.4444444444444444,
             "#bd3786"
            ],
            [
             0.5555555555555556,
             "#d8576b"
            ],
            [
             0.6666666666666666,
             "#ed7953"
            ],
            [
             0.7777777777777778,
             "#fb9f3a"
            ],
            [
             0.8888888888888888,
             "#fdca26"
            ],
            [
             1,
             "#f0f921"
            ]
           ]
          },
          "colorway": [
           "#636efa",
           "#EF553B",
           "#00cc96",
           "#ab63fa",
           "#FFA15A",
           "#19d3f3",
           "#FF6692",
           "#B6E880",
           "#FF97FF",
           "#FECB52"
          ],
          "font": {
           "color": "#2a3f5f"
          },
          "geo": {
           "bgcolor": "white",
           "lakecolor": "white",
           "landcolor": "#E5ECF6",
           "showlakes": true,
           "showland": true,
           "subunitcolor": "white"
          },
          "hoverlabel": {
           "align": "left"
          },
          "hovermode": "closest",
          "mapbox": {
           "style": "light"
          },
          "paper_bgcolor": "white",
          "plot_bgcolor": "#E5ECF6",
          "polar": {
           "angularaxis": {
            "gridcolor": "white",
            "linecolor": "white",
            "ticks": ""
           },
           "bgcolor": "#E5ECF6",
           "radialaxis": {
            "gridcolor": "white",
            "linecolor": "white",
            "ticks": ""
           }
          },
          "scene": {
           "xaxis": {
            "backgroundcolor": "#E5ECF6",
            "gridcolor": "white",
            "gridwidth": 2,
            "linecolor": "white",
            "showbackground": true,
            "ticks": "",
            "zerolinecolor": "white"
           },
           "yaxis": {
            "backgroundcolor": "#E5ECF6",
            "gridcolor": "white",
            "gridwidth": 2,
            "linecolor": "white",
            "showbackground": true,
            "ticks": "",
            "zerolinecolor": "white"
           },
           "zaxis": {
            "backgroundcolor": "#E5ECF6",
            "gridcolor": "white",
            "gridwidth": 2,
            "linecolor": "white",
            "showbackground": true,
            "ticks": "",
            "zerolinecolor": "white"
           }
          },
          "shapedefaults": {
           "line": {
            "color": "#2a3f5f"
           }
          },
          "ternary": {
           "aaxis": {
            "gridcolor": "white",
            "linecolor": "white",
            "ticks": ""
           },
           "baxis": {
            "gridcolor": "white",
            "linecolor": "white",
            "ticks": ""
           },
           "bgcolor": "#E5ECF6",
           "caxis": {
            "gridcolor": "white",
            "linecolor": "white",
            "ticks": ""
           }
          },
          "title": {
           "x": 0.05
          },
          "xaxis": {
           "automargin": true,
           "gridcolor": "white",
           "linecolor": "white",
           "ticks": "",
           "title": {
            "standoff": 15
           },
           "zerolinecolor": "white",
           "zerolinewidth": 2
          },
          "yaxis": {
           "automargin": true,
           "gridcolor": "white",
           "linecolor": "white",
           "ticks": "",
           "title": {
            "standoff": 15
           },
           "zerolinecolor": "white",
           "zerolinewidth": 2
          }
         }
        },
        "width": 700,
        "xaxis": {
         "anchor": "y",
         "autorange": true,
         "domain": [
          0,
          1
         ],
         "gridcolor": "lightgray",
         "griddash": "dot",
         "linecolor": "gray",
         "linewidth": 2,
         "range": [
          1999.5536930330015,
          2024.4463069669985
         ],
         "tickangle": -90,
         "tickmode": "array",
         "tickvals": [
          2001,
          2003,
          2005,
          2006,
          2007,
          2008,
          2009,
          2010,
          2011,
          2012,
          2013,
          2014,
          2015,
          2016,
          2017,
          2018,
          2019,
          2020,
          2021,
          2022,
          2023
         ],
         "title": {
          "text": "Year"
         },
         "type": "linear"
        },
        "yaxis": {
         "anchor": "x",
         "autorange": true,
         "domain": [
          0,
          1
         ],
         "gridcolor": "lightgray",
         "griddash": "dot",
         "linecolor": "gray",
         "linewidth": 2,
         "range": [
          -0.5453481568168521,
          22.579286132241077
         ],
         "title": {
          "text": "Number of Documents"
         },
         "type": "linear"
        }
       }
      },
      "image/png": "[encoded data removed]",
      "text/html": [
       "<div>                            <div id=\"ee1a120d-6e10-4263-8f49-95a202242976\" class=\"plotly-graph-div\" style=\"height:400px; width:700px;\"></div>            <script type=\"text/javascript\">                require([\"plotly\"], function(Plotly) {                    window.PLOTLYENV=window.PLOTLYENV || {};                                    if (document.getElementById(\"ee1a120d-6e10-4263-8f49-95a202242976\")) {                    Plotly.newPlot(                        \"ee1a120d-6e10-4263-8f49-95a202242976\",                        [{\"customdata\":[[0.0,0.0,0.0],[7.0,7.0,0.33],[19.0,3.1666666666666665,0.17],[9.0,9.0,0.5],[9.0,4.5,0.26],[27.0,9.0,0.56],[1.0,0.25,0.02],[15.0,5.0,0.36],[37.0,7.4,0.57],[119.0,14.875,1.24],[146.0,20.857142857142858,1.9],[90.0,18.0,1.8],[212.0,30.285714285714285,3.37],[368.0,28.307692307692307,3.54],[201.0,16.75,2.39],[193.0,17.545454545454547,2.92],[186.0,18.6,3.72],[113.0,9.416666666666666,2.35],[202.0,11.222222222222221,3.74],[111.0,5.55,2.78],[18.0,1.2857142857142858,1.29]],\"hovertemplate\":\"year=%{x}\\u003cbr\\u003eOCC=%{y}\\u003cbr\\u003eGlobal Citations=%{customdata[0]}\\u003cbr\\u003eMean Global Citations=%{customdata[1]}\\u003cbr\\u003eMean Global Citations Per Year=%{customdata[2]}\\u003cextra\\u003e\\u003c\\u002fextra\\u003e\",\"legendgroup\":\"\",\"line\":{\"color\":\"#465c6b\",\"dash\":\"solid\",\"width\":1.5},\"marker\":{\"symbol\":\"circle\",\"line\":{\"color\":\"#465c6b\",\"width\":2},\"color\":\"#7793a5\",\"size\":7},\"mode\":\"lines+markers\",\"name\":\"\",\"orientation\":\"v\",\"showlegend\":false,\"x\":[2001,2003,2005,2006,2007,2008,2009,2010,2011,2012,2013,2014,2015,2016,2017,2018,2019,2020,2021,2022,2023],\"xaxis\":\"x\",\"y\":[1,1,6,1,2,3,4,3,5,8,7,5,7,13,12,11,10,12,18,20,14],\"yaxis\":\"y\",\"type\":\"scatter\"}],                        {\"template\":{\"data\":{\"histogram2dcontour\":[{\"type\":\"histogram2dcontour\",\"colorbar\":{\"outlinewidth\":0,\"ticks\":\"\"},\"colorscale\":[[0.0,\"#0d0887\"],[0.1111111111111111,\"#46039f\"],[0.2222222222222222,\"#7201a8\"],[0.3333333333333333,\"#9c179e\"],[0.4444444444444444,\"#bd3786\"],[0.5555555555555556,\"#d8576b\"],[0.6666666666666666,\"#ed7953\"],[0.7777777777777778,\"#fb9f3a\"],[0.8888888888888888,\"#fdca26\"],[1.0,\"#f0f921\"]]}],\"choropleth\":[{\"type\":\"choropleth\",\"colorbar\":{\"outlinewidth\":0,\"ticks\":\"\"}}],\"histogram2d\":[{\"type\":\"histogram2d\",\"colorbar\":{\"outlinewidth\":0,\"ticks\":\"\"},\"colorscale\":[[0.0,\"#0d0887\"],[0.1111111111111111,\"#46039f\"],[0.2222222222222222,\"#7201a8\"],[0.3333333333333333,\"#9c179e\"],[0.4444444444444444,\"#bd3786\"],[0.5555555555555556,\"#d8576b\"],[0.6666666666666666,\"#ed7953\"],[0.7777777777777778,\"#fb9f3a\"],[0.8888888888888888,\"#fdca26\"],[1.0,\"#f0f921\"]]}],\"heatmap\":[{\"type\":\"heatmap\",\"colorbar\":{\"outlinewidth\":0,\"ticks\":\"\"},\"colorscale\":[[0.0,\"#0d0887\"],[0.1111111111111111,\"#46039f\"],[0.2222222222222222,\"#7201a8\"],[0.3333333333333333,\"#9c179e\"],[0.4444444444444444,\"#bd3786\"],[0.5555555555555556,\"#d8576b\"],[0.6666666666666666,\"#ed7953\"],[0.7777777777777778,\"#fb9f3a\"],[0.8888888888888888,\"#fdca26\"],[1.0,\"#f0f921\"]]}],\"heatmapgl\":[{\"type\":\"heatmapgl\",\"colorbar\":{\"outlinewidth\":0,\"ticks\":\"\"},\"colorscale\":[[0.0,\"#0d0887\"],[0.1111111111111111,\"#46039f\"],[0.2222222222222222,\"#7201a8\"],[0.3333333333333333,\"#9c179e\"],[0.4444444444444444,\"#bd3786\"],[0.5555555555555556,\"#d8576b\"],[0.6666666666666666,\"#ed7953\"],[0.7777777777777778,\"#fb9f3a\"],[0.8888888888888888,\"#fdca26\"],[1.0,\"#f0f921\"]]}],\"contourcarpet\":[{\"type\":\"contourcarpet\",\"colorbar\":{\"outlinewidth\":0,\"ticks\":\"\"}}],\"contour\":[{\"type\":\"contour\",\"colorbar\":{\"outlinewidth\":0,\"ticks\":\"\"},\"colorscale\":[[0.0,\"#0d0887\"],[0.1111111111111111,\"#46039f\"],[0.2222222222222222,\"#7201a8\"],[0.3333333333333333,\"#9c179e\"],[0.4444444444444444,\"#bd3786\"],[0.5555555555555556,\"#d8576b\"],[0.6666666666666666,\"#ed7953\"],[0.7777777777777778,\"#fb9f3a\"],[0.8888888888888888,\"#fdca26\"],[1.0,\"#f0f921\"]]}],\"surface\":[{\"type\":\"surface\",\"colorbar\":{\"outlinewidth\":0,\"ticks\":\"\"},\"colorscale\":[[0.0,\"#0d0887\"],[0.1111111111111111,\"#46039f\"],[0.2222222222222222,\"#7201a8\"],[0.3333333333333333,\"#9c179e\"],[0.4444444444444444,\"#bd3786\"],[0.5555555555555556,\"#d8576b\"],[0.6666666666666666,\"#ed7953\"],[0.7777777777777778,\"#fb9f3a\"],[0.8888888888888888,\"#fdca26\"],[1.0,\"#f0f921\"]]}],\"mesh3d\":[{\"type\":\"mesh3d\",\"colorbar\":{\"outlinewidth\":0,\"ticks\":\"\"}}],\"scatter\":[{\"fillpattern\":{\"fillmode\":\"overlay\",\"size\":10,\"solidity\":0.2},\"type\":\"scatter\"}],\"parcoords\":[{\"type\":\"parcoords\",\"line\":{\"colorbar\":{\"outlinewidth\":0,\"ticks\":\"\"}}}],\"scatterpolargl\":[{\"type\":\"scatterpolargl\",\"marker\":{\"colorbar\":{\"outlinewidth\":0,\"ticks\":\"\"}}}],\"bar\":[{\"error_x\":{\"color\":\"#2a3f5f\"},\"error_y\":{\"color\":\"#2a3f5f\"},\"marker\":{\"line\":{\"color\":\"#E5ECF6\",\"width\":0.5},\"pattern\":{\"fillmode\":\"overlay\",\"size\":10,\"solidity\":0.2}},\"type\":\"bar\"}],\"scattergeo\":[{\"type\":\"scattergeo\",\"marker\":{\"colorbar\":{\"outlinewidth\":0,\"ticks\":\"\"}}}],\"scatterpolar\":[{\"type\":\"scatterpolar\",\"marker\":{\"colorbar\":{\"outlinewidth\":0,\"ticks\":\"\"}}}],\"histogram\":[{\"marker\":{\"pattern\":{\"fillmode\":\"overlay\",\"size\":10,\"solidity\":0.2}},\"type\":\"histogram\"}],\"scattergl\":[{\"type\":\"scattergl\",\"marker\":{\"colorbar\":{\"outlinewidth\":0,\"ticks\":\"\"}}}],\"scatter3d\":[{\"type\":\"scatter3d\",\"line\":{\"colorbar\":{\"outlinewidth\":0,\"ticks\":\"\"}},\"marker\":{\"colorbar\":{\"outlinewidth\":0,\"ticks\":\"\"}}}],\"scattermapbox\":[{\"type\":\"scattermapbox\",\"marker\":{\"colorbar\":{\"outlinewidth\":0,\"ticks\":\"\"}}}],\"scatterternary\":[{\"type\":\"scatterternary\",\"marker\":{\"colorbar\":{\"outlinewidth\":0,\"ticks\":\"\"}}}],\"scattercarpet\":[{\"type\":\"scattercarpet\",\"marker\":{\"colorbar\":{\"outlinewidth\":0,\"ticks\":\"\"}}}],\"carpet\":[{\"aaxis\":{\"endlinecolor\":\"#2a3f5f\",\"gridcolor\":\"white\",\"linecolor\":\"white\",\"minorgridcolor\":\"white\",\"startlinecolor\":\"#2a3f5f\"},\"baxis\":{\"endlinecolor\":\"#2a3f5f\",\"gridcolor\":\"white\",\"linecolor\":\"white\",\"minorgridcolor\":\"white\",\"startlinecolor\":\"#2a3f5f\"},\"type\":\"carpet\"}],\"table\":[{\"cells\":{\"fill\":{\"color\":\"#EBF0F8\"},\"line\":{\"color\":\"white\"}},\"header\":{\"fill\":{\"color\":\"#C8D4E3\"},\"line\":{\"color\":\"white\"}},\"type\":\"table\"}],\"barpolar\":[{\"marker\":{\"line\":{\"color\":\"#E5ECF6\",\"width\":0.5},\"pattern\":{\"fillmode\":\"overlay\",\"size\":10,\"solidity\":0.2}},\"type\":\"barpolar\"}],\"pie\":[{\"automargin\":true,\"type\":\"pie\"}]},\"layout\":{\"autotypenumbers\":\"strict\",\"colorway\":[\"#636efa\",\"#EF553B\",\"#00cc96\",\"#ab63fa\",\"#FFA15A\",\"#19d3f3\",\"#FF6692\",\"#B6E880\",\"#FF97FF\",\"#FECB52\"],\"font\":{\"color\":\"#2a3f5f\"},\"hovermode\":\"closest\",\"hoverlabel\":{\"align\":\"left\"},\"paper_bgcolor\":\"white\",\"plot_bgcolor\":\"#E5ECF6\",\"polar\":{\"bgcolor\":\"#E5ECF6\",\"angularaxis\":{\"gridcolor\":\"white\",\"linecolor\":\"white\",\"ticks\":\"\"},\"radialaxis\":{\"gridcolor\":\"white\",\"linecolor\":\"white\",\"ticks\":\"\"}},\"ternary\":{\"bgcolor\":\"#E5ECF6\",\"aaxis\":{\"gridcolor\":\"white\",\"linecolor\":\"white\",\"ticks\":\"\"},\"baxis\":{\"gridcolor\":\"white\",\"linecolor\":\"white\",\"ticks\":\"\"},\"caxis\":{\"gridcolor\":\"white\",\"linecolor\":\"white\",\"ticks\":\"\"}},\"coloraxis\":{\"colorbar\":{\"outlinewidth\":0,\"ticks\":\"\"}},\"colorscale\":{\"sequential\":[[0.0,\"#0d0887\"],[0.1111111111111111,\"#46039f\"],[0.2222222222222222,\"#7201a8\"],[0.3333333333333333,\"#9c179e\"],[0.4444444444444444,\"#bd3786\"],[0.5555555555555556,\"#d8576b\"],[0.6666666666666666,\"#ed7953\"],[0.7777777777777778,\"#fb9f3a\"],[0.8888888888888888,\"#fdca26\"],[1.0,\"#f0f921\"]],\"sequentialminus\":[[0.0,\"#0d0887\"],[0.1111111111111111,\"#46039f\"],[0.2222222222222222,\"#7201a8\"],[0.3333333333333333,\"#9c179e\"],[0.4444444444444444,\"#bd3786\"],[0.5555555555555556,\"#d8576b\"],[0.6666666666666666,\"#ed7953\"],[0.7777777777777778,\"#fb9f3a\"],[0.8888888888888888,\"#fdca26\"],[1.0,\"#f0f921\"]],\"diverging\":[[0,\"#8e0152\"],[0.1,\"#c51b7d\"],[0.2,\"#de77ae\"],[0.3,\"#f1b6da\"],[0.4,\"#fde0ef\"],[0.5,\"#f7f7f7\"],[0.6,\"#e6f5d0\"],[0.7,\"#b8e186\"],[0.8,\"#7fbc41\"],[0.9,\"#4d9221\"],[1,\"#276419\"]]},\"xaxis\":{\"gridcolor\":\"white\",\"linecolor\":\"white\",\"ticks\":\"\",\"title\":{\"standoff\":15},\"zerolinecolor\":\"white\",\"automargin\":true,\"zerolinewidth\":2},\"yaxis\":{\"gridcolor\":\"white\",\"linecolor\":\"white\",\"ticks\":\"\",\"title\":{\"standoff\":15},\"zerolinecolor\":\"white\",\"automargin\":true,\"zerolinewidth\":2},\"scene\":{\"xaxis\":{\"backgroundcolor\":\"#E5ECF6\",\"gridcolor\":\"white\",\"linecolor\":\"white\",\"showbackground\":true,\"ticks\":\"\",\"zerolinecolor\":\"white\",\"gridwidth\":2},\"yaxis\":{\"backgroundcolor\":\"#E5ECF6\",\"gridcolor\":\"white\",\"linecolor\":\"white\",\"showbackground\":true,\"ticks\":\"\",\"zerolinecolor\":\"white\",\"gridwidth\":2},\"zaxis\":{\"backgroundcolor\":\"#E5ECF6\",\"gridcolor\":\"white\",\"linecolor\":\"white\",\"showbackground\":true,\"ticks\":\"\",\"zerolinecolor\":\"white\",\"gridwidth\":2}},\"shapedefaults\":{\"line\":{\"color\":\"#2a3f5f\"}},\"annotationdefaults\":{\"arrowcolor\":\"#2a3f5f\",\"arrowhead\":0,\"arrowwidth\":1},\"geo\":{\"bgcolor\":\"white\",\"landcolor\":\"#E5ECF6\",\"subunitcolor\":\"white\",\"showland\":true,\"showlakes\":true,\"lakecolor\":\"white\"},\"title\":{\"x\":0.05},\"mapbox\":{\"style\":\"light\"}}},\"xaxis\":{\"anchor\":\"y\",\"domain\":[0.0,1.0],\"title\":{\"text\":\"Year\"},\"linecolor\":\"gray\",\"linewidth\":2,\"gridcolor\":\"lightgray\",\"griddash\":\"dot\",\"tickangle\":-90,\"tickmode\":\"array\",\"tickvals\":[2001,2003,2005,2006,2007,2008,2009,2010,2011,2012,2013,2014,2015,2016,2017,2018,2019,2020,2021,2022,2023]},\"yaxis\":{\"anchor\":\"x\",\"domain\":[0.0,1.0],\"title\":{\"text\":\"Number of Documents\"},\"linecolor\":\"gray\",\"linewidth\":2,\"gridcolor\":\"lightgray\",\"griddash\":\"dot\"},\"legend\":{\"tracegroupgap\":0},\"margin\":{\"t\":60},\"paper_bgcolor\":\"white\",\"plot_bgcolor\":\"white\",\"annotations\":[{\"font\":{\"size\":10},\"showarrow\":false,\"text\":\"0\",\"textangle\":-90,\"x\":2001,\"y\":1.0,\"yanchor\":\"bottom\",\"yshift\":6},{\"font\":{\"size\":10},\"showarrow\":false,\"text\":\"7\",\"textangle\":-90,\"x\":2003,\"y\":1.0,\"yanchor\":\"bottom\",\"yshift\":6},{\"font\":{\"size\":10},\"showarrow\":false,\"text\":\"19\",\"textangle\":-90,\"x\":2005,\"y\":6.0,\"yanchor\":\"bottom\",\"yshift\":6},{\"font\":{\"size\":10},\"showarrow\":false,\"text\":\"9\",\"textangle\":-90,\"x\":2006,\"y\":1.0,\"yanchor\":\"bottom\",\"yshift\":6},{\"font\":{\"size\":10},\"showarrow\":false,\"text\":\"9\",\"textangle\":-90,\"x\":2007,\"y\":2.0,\"yanchor\":\"bottom\",\"yshift\":6},{\"font\":{\"size\":10},\"showarrow\":false,\"text\":\"27\",\"textangle\":-90,\"x\":2008,\"y\":3.0,\"yanchor\":\"bottom\",\"yshift\":6},{\"font\":{\"size\":10},\"showarrow\":false,\"text\":\"1\",\"textangle\":-90,\"x\":2009,\"y\":4.0,\"yanchor\":\"bottom\",\"yshift\":6},{\"font\":{\"size\":10},\"showarrow\":false,\"text\":\"15\",\"textangle\":-90,\"x\":2010,\"y\":3.0,\"yanchor\":\"bottom\",\"yshift\":6},{\"font\":{\"size\":10},\"showarrow\":false,\"text\":\"37\",\"textangle\":-90,\"x\":2011,\"y\":5.0,\"yanchor\":\"bottom\",\"yshift\":6},{\"font\":{\"size\":10},\"showarrow\":false,\"text\":\"119\",\"textangle\":-90,\"x\":2012,\"y\":8.0,\"yanchor\":\"bottom\",\"yshift\":6},{\"font\":{\"size\":10},\"showarrow\":false,\"text\":\"146\",\"textangle\":-90,\"x\":2013,\"y\":7.0,\"yanchor\":\"bottom\",\"yshift\":6},{\"font\":{\"size\":10},\"showarrow\":false,\"text\":\"90\",\"textangle\":-90,\"x\":2014,\"y\":5.0,\"yanchor\":\"bottom\",\"yshift\":6},{\"font\":{\"size\":10},\"showarrow\":false,\"text\":\"212\",\"textangle\":-90,\"x\":2015,\"y\":7.0,\"yanchor\":\"bottom\",\"yshift\":6},{\"font\":{\"size\":10},\"showarrow\":false,\"text\":\"368\",\"textangle\":-90,\"x\":2016,\"y\":13.0,\"yanchor\":\"bottom\",\"yshift\":6},{\"font\":{\"size\":10},\"showarrow\":false,\"text\":\"201\",\"textangle\":-90,\"x\":2017,\"y\":12.0,\"yanchor\":\"bottom\",\"yshift\":6},{\"font\":{\"size\":10},\"showarrow\":false,\"text\":\"193\",\"textangle\":-90,\"x\":2018,\"y\":11.0,\"yanchor\":\"bottom\",\"yshift\":6},{\"font\":{\"size\":10},\"showarrow\":false,\"text\":\"186\",\"textangle\":-90,\"x\":2019,\"y\":10.0,\"yanchor\":\"bottom\",\"yshift\":6},{\"font\":{\"size\":10},\"showarrow\":false,\"text\":\"113\",\"textangle\":-90,\"x\":2020,\"y\":12.0,\"yanchor\":\"bottom\",\"yshift\":6},{\"font\":{\"size\":10},\"showarrow\":false,\"text\":\"202\",\"textangle\":-90,\"x\":2021,\"y\":18.0,\"yanchor\":\"bottom\",\"yshift\":6},{\"font\":{\"size\":10},\"showarrow\":false,\"text\":\"111\",\"textangle\":-90,\"x\":2022,\"y\":20.0,\"yanchor\":\"bottom\",\"yshift\":6},{\"font\":{\"size\":10},\"showarrow\":false,\"text\":\"18\",\"textangle\":-90,\"x\":2023,\"y\":14.0,\"yanchor\":\"bottom\",\"yshift\":6}],\"width\":700,\"height\":400},                        {\"responsive\": true}                    ).then(function(){\n",
       "                            \n",
       "var gd = document.getElementById('ee1a120d-6e10-4263-8f49-95a202242976');\n",
       "var x = new MutationObserver(function (mutations, observer) {{\n",
       "        var display = window.getComputedStyle(gd).display;\n",
       "        if (!display || display === 'none') {{\n",
       "            console.log([gd, 'removed!']);\n",
       "            Plotly.purge(gd);\n",
       "            observer.disconnect();\n",
       "        }}\n",
       "}});\n",
       "\n",
       "// Listen for the removal of the full notebook cells\n",
       "var notebookContainer = gd.closest('#notebook-container');\n",
       "if (notebookContainer) {{\n",
       "    x.observe(notebookContainer, {childList: true});\n",
       "}}\n",
       "\n",
       "// Listen for the clearing of the current output cell\n",
       "var outputEl = gd.closest('.output');\n",
       "if (outputEl) {{\n",
       "    x.observe(outputEl, {childList: true});\n",
       "}}\n",
       "\n",
       "                        })                };                });            </script>        </div>"
      ]
     },
     "metadata": {},
     "output_type": "display_data"
    }
   ],
   "source": [
    "from techminer2.metrics import trend_metrics\n",
    "\n",
    "metrics = trend_metrics(\n",
    "    #\n",
    "    # TABLE PARAMS:\n",
    "    selected_columns=[\n",
    "        \"OCC\",\n",
    "        \"global_citations\",\n",
    "        \"mean_global_citations\",\n",
    "        \"mean_global_citations_per_year\",\n",
    "    ],\n",
    "    #\n",
    "    # CHART PARAMS:\n",
    "    metric_to_plot=\"OCC\",\n",
    "    auxiliary_metric_to_plot=\"global_citations\",\n",
    "    title=None,\n",
    "    year_label=None,\n",
    "    metric_label=\"Number of Documents\",\n",
    "    textfont_size=10,\n",
    "    marker_size=7,\n",
    "    line_width=1.5,\n",
    "    yshift=6,\n",
    "    #\n",
    "    # DATABASE PARAMS:\n",
    "    root_dir=\"./\",\n",
    "    database=\"main\",\n",
    "    year_filter=(None, None),\n",
    "    cited_by_filter=(None, None),\n",
    ")\n",
    "\n",
    "metrics.fig_.update_layout(width=700, height=400).show()"
   ]
  },
  {
   "cell_type": "code",
   "execution_count": 4,
   "id": "155afa08-0abc-4361-8c7d-6dc5ad8be6a6",
   "metadata": {},
   "outputs": [
    {
     "name": "stdout",
     "output_type": "stream",
     "text": [
      "Your task is to generate a short summary for a research paper about the \\\n",
      "annual performance metrics of a bibliographic dataset. The table below \\\n",
      "provides data on: the number of publications per yeear (OCC); the number \\\n",
      "of citations per year (global_citations); the average number of citations \\\n",
      "per document for each year (mean_global_citations); the average number of \\\n",
      "citations per document divided by the age of the documents \\\n",
      "(mean_global_citations_per_year);  Use the the information in the table \\\n",
      "to draw conclusions about the impact per year. In your analysis, be sure \\\n",
      "to describe in a clear and concise way, any trends or patterns you \\\n",
      "observe, and identify any outliers or anomalies  in the data. Limit your \\\n",
      "description to one paragraph with no more than 250 words.\n",
      "\n",
      "Table:\n",
      "```\n",
      "|   year |   OCC |   global_citations |   mean_global_citations |   mean_global_citations_per_year |\n",
      "|-------:|------:|-------------------:|------------------------:|---------------------------------:|\n",
      "|   2001 |     1 |                  0 |                 0       |                             0    |\n",
      "|   2003 |     1 |                  7 |                 7       |                             0.33 |\n",
      "|   2005 |     6 |                 19 |                 3.16667 |                             0.17 |\n",
      "|   2006 |     1 |                  9 |                 9       |                             0.5  |\n",
      "|   2007 |     2 |                  9 |                 4.5     |                             0.26 |\n",
      "|   2008 |     3 |                 27 |                 9       |                             0.56 |\n",
      "|   2009 |     4 |                  1 |                 0.25    |                             0.02 |\n",
      "|   2010 |     3 |                 15 |                 5       |                             0.36 |\n",
      "|   2011 |     5 |                 37 |                 7.4     |                             0.57 |\n",
      "|   2012 |     8 |                119 |                14.875   |                             1.24 |\n",
      "|   2013 |     7 |                146 |                20.8571  |                             1.9  |\n",
      "|   2014 |     5 |                 90 |                18       |                             1.8  |\n",
      "|   2015 |     7 |                212 |                30.2857  |                             3.37 |\n",
      "|   2016 |    13 |                368 |                28.3077  |                             3.54 |\n",
      "|   2017 |    12 |                201 |                16.75    |                             2.39 |\n",
      "|   2018 |    11 |                193 |                17.5455  |                             2.92 |\n",
      "|   2019 |    10 |                186 |                18.6     |                             3.72 |\n",
      "|   2020 |    12 |                113 |                 9.41667 |                             2.35 |\n",
      "|   2021 |    18 |                202 |                11.2222  |                             3.74 |\n",
      "|   2022 |    20 |                111 |                 5.55    |                             2.78 |\n",
      "|   2023 |    14 |                 18 |                 1.28571 |                             1.29 |\n",
      "```\n",
      "\n"
     ]
    }
   ],
   "source": [
    "print(metrics.prompt_)"
   ]
  },
  {
   "cell_type": "code",
   "execution_count": 5,
   "id": "cd5e0d05-09ef-4b92-8f2f-8044ce0adba6",
   "metadata": {},
   "outputs": [],
   "source": [
    "table = metrics.df_.copy()\n",
    "table['mean_global_citations'] = table['mean_global_citations'].round(2)\n",
    "table.to_csv('tables/annual_scientific_production.csv', sep='\\t')"
   ]
  },
  {
   "cell_type": "code",
   "execution_count": null,
   "id": "d29722bc-6f3e-4918-874e-0440bafe0745",
   "metadata": {},
   "outputs": [],
   "source": []
  }
 ],
 "metadata": {
  "kernelspec": {
   "display_name": "Python 3 (ipykernel)",
   "language": "python",
   "name": "python3"
  },
  "language_info": {
   "codemirror_mode": {
    "name": "ipython",
    "version": 3
   },
   "file_extension": ".py",
   "mimetype": "text/x-python",
   "name": "python",
   "nbconvert_exporter": "python",
   "pygments_lexer": "ipython3",
   "version": "3.9.6"
  }
 },
 "nbformat": 4,
 "nbformat_minor": 5
}
